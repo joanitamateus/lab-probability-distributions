{
 "cells": [
  {
   "cell_type": "markdown",
   "metadata": {},
   "source": [
    "# Before your start:\n",
    "\n",
    "    Read the README.md file\n",
    "    Comment as much as you can and use the resources (README.md file)\n",
    "    Happy learning!"
   ]
  },
  {
   "cell_type": "markdown",
   "metadata": {},
   "source": [
    "In this exercise, we  will generate random numbers from the continuous disributions we learned in the lesson. There are two ways to generate random numbers:\n",
    "\n",
    "1. Using the numpy library \n",
    "1. using the Scipy library \n",
    "\n",
    "Use either or both of the lbraries in this exercise."
   ]
  },
  {
   "cell_type": "markdown",
   "metadata": {},
   "source": [
    "## Uniform Distribution\n",
    "\n",
    "To generate uniform random numbers between any two given values using scipy, we can either use the following code or the code that we have\n",
    "discussed in class:"
   ]
  },
  {
   "cell_type": "code",
   "execution_count": 1,
   "metadata": {},
   "outputs": [],
   "source": [
    "from scipy import stats\n",
    "import numpy as np\n",
    "import math\n",
    "import pandas as pd\n",
    "import matplotlib.pyplot as plt"
   ]
  },
  {
   "cell_type": "code",
   "execution_count": 2,
   "metadata": {},
   "outputs": [
    {
     "name": "stdout",
     "output_type": "stream",
     "text": [
      "[2.98662358 2.4390233  2.86897618 2.90731195 2.39691586 2.48041652\n",
      " 2.82512735 2.83748922 2.06372693 2.20780258]\n"
     ]
    }
   ],
   "source": [
    "from scipy.stats import uniform\n",
    "x = uniform.rvs(size=10)\n",
    "a = 2\n",
    "b = 3\n",
    "randoms  = a + (b-a)*x\n",
    "print(randoms)"
   ]
  },
  {
   "cell_type": "markdown",
   "metadata": {},
   "source": [
    "**Your task:**\n",
    "\n",
    "1. Based on the code above, write a function that generates uniformly distributed random numbers. There are several requirements for your function:\n",
    "    * It should accept 3 parameters: \n",
    "        * `bottom` - the lower boundary of the generated numbers\n",
    "        * `ceiling` - the upper boundary of the generated numbers\n",
    "        * `count` - how many numbers to generate\n",
    "    * It should return an array of uniformly distributed random numbers\n",
    "\n",
    "1. Call your function with 2 sets of params below:\n",
    "    * bottom=10, ceiling=15, count=100\n",
    "    * bottom=10, ceiling=60, count=1,000\n",
    "\n",
    "1. Plot the uniform distributions generated above using histograms, where x axis is the value and y axis is the count. Let the histogram's number of bins be 10.\n",
    "\n",
    "Your output should look like below:\n",
    "\n",
    "![uniform distribution](ud.png)"
   ]
  },
  {
   "cell_type": "code",
   "execution_count": 6,
   "metadata": {},
   "outputs": [
    {
     "name": "stdout",
     "output_type": "stream",
     "text": [
      "[0.90504249 0.70608952 0.57298555 0.63854663 0.95884385 0.36552586\n",
      " 0.04570509 0.65932719 0.82880425 0.03345702 0.32809694 0.89485574\n",
      " 0.85972809 0.46547056 0.18412961 0.11144156 0.99380016 0.12532021\n",
      " 0.52322531 0.15609068 0.84271108 0.10439405 0.98974905 0.02923377\n",
      " 0.84456131 0.72498209 0.62075838 0.49737888 0.21868927 0.06107199\n",
      " 0.50161633 0.7303156  0.58101924 0.021037   0.83336517 0.93668405\n",
      " 0.66619029 0.04820501 0.03311692 0.00840287 0.78819835 0.08117261\n",
      " 0.87489123 0.17098723 0.38215345 0.08080447 0.346991   0.61733259\n",
      " 0.78059905 0.87853987 0.41798905 0.34704699 0.4667392  0.80456302\n",
      " 0.48115985 0.84726286 0.72993726 0.84905805 0.75761972 0.96752709\n",
      " 0.54458572 0.07626803 0.76952558 0.23938034 0.35576665 0.8428383\n",
      " 0.31865487 0.8459027  0.94436148 0.57830638 0.20143928 0.1835773\n",
      " 0.38310674 0.23857902 0.74579535 0.74891098 0.37087201 0.86121451\n",
      " 0.25966841 0.70871935 0.83348878 0.02212306 0.40872599 0.02628411\n",
      " 0.24615836 0.49033793 0.09902229 0.37351301 0.60345611 0.58963444\n",
      " 0.91568158 0.34650822 0.75884804 0.43822669 0.4692856  0.98184713\n",
      " 0.18405524 0.444074   0.28450547 0.27717525]\n",
      "[3.97825455e-01 5.31910149e-01 5.67257009e-01 8.67093594e-01\n",
      " 1.12998096e-02 2.57860500e-01 7.47610784e-01 8.56224798e-01\n",
      " 9.83202191e-01 9.52633000e-01 3.67989646e-01 6.71084157e-01\n",
      " 1.27279312e-01 7.76723119e-01 7.60470221e-01 4.16375576e-01\n",
      " 2.04539395e-01 9.00295228e-01 4.54437173e-01 1.08453485e-01\n",
      " 6.21695018e-01 2.46560877e-03 2.87057803e-01 3.27942426e-01\n",
      " 3.37425582e-01 6.03205454e-01 5.25867132e-02 5.45649156e-01\n",
      " 2.11379732e-01 3.90797144e-01 8.33448141e-01 4.30876010e-01\n",
      " 2.99281731e-01 2.13647645e-02 4.39370125e-01 5.86201716e-01\n",
      " 2.50639837e-01 3.04191917e-01 5.26440995e-02 3.44192960e-01\n",
      " 8.93184428e-02 7.89505456e-02 1.90460747e-01 6.20477790e-02\n",
      " 3.36415479e-01 1.02263579e-01 2.01304808e-01 2.98470463e-01\n",
      " 4.54707736e-01 3.38750422e-01 6.20522982e-01 4.50394792e-01\n",
      " 7.22024132e-01 3.46750569e-01 3.91525727e-01 9.85303489e-01\n",
      " 8.27460900e-01 9.36458885e-01 8.95467309e-01 4.31498609e-01\n",
      " 7.39393284e-01 8.01043951e-01 3.00358873e-01 9.11467638e-01\n",
      " 9.54868864e-01 7.34765936e-01 4.06285597e-01 7.10461499e-01\n",
      " 5.68653007e-01 7.42689709e-01 8.63003314e-01 8.05640111e-01\n",
      " 6.40853678e-01 9.94258781e-01 8.02919545e-01 5.69979794e-01\n",
      " 7.31874843e-01 8.50772034e-01 1.92549343e-01 8.00714768e-01\n",
      " 9.42527448e-01 3.29980987e-01 2.49605905e-01 2.37410379e-02\n",
      " 7.90555452e-01 1.95947007e-01 8.38783066e-01 7.34614666e-01\n",
      " 3.82299314e-01 5.42018263e-01 2.84629055e-02 7.40738432e-01\n",
      " 6.33517172e-01 5.45315634e-01 6.98823206e-01 8.54430772e-01\n",
      " 7.51011839e-01 4.30060758e-01 7.96077238e-01 8.73296769e-02\n",
      " 8.35032775e-03 8.84745007e-01 9.45394367e-01 6.39653310e-01\n",
      " 2.37472174e-01 3.55534927e-01 1.42790772e-01 4.66516020e-01\n",
      " 5.32723142e-01 6.32905231e-01 6.07680933e-01 1.89235548e-01\n",
      " 2.82255203e-01 9.74161182e-01 4.31053837e-01 5.65881622e-01\n",
      " 9.51561687e-01 4.58856092e-01 7.02739801e-01 3.48033491e-01\n",
      " 1.26020491e-01 8.90392534e-01 1.95021746e-02 1.66884463e-01\n",
      " 6.49753016e-01 3.27023610e-01 5.83505617e-01 6.10773215e-01\n",
      " 7.44530956e-01 9.53723285e-01 3.51623792e-01 1.69163046e-01\n",
      " 1.77640494e-01 5.43991961e-01 3.11036802e-02 7.89663316e-02\n",
      " 9.10413496e-02 9.07572696e-01 1.98352372e-01 2.76620574e-01\n",
      " 1.45535543e-01 8.83483661e-01 4.94976202e-01 4.94790435e-01\n",
      " 1.15063206e-01 6.38113530e-01 4.45425108e-01 5.95218102e-01\n",
      " 3.92430878e-01 9.36714150e-01 2.61102629e-02 1.36537953e-01\n",
      " 1.50813433e-01 2.04575614e-01 8.80860177e-01 2.54233820e-01\n",
      " 8.43985313e-01 1.39763214e-01 7.63422140e-01 8.85012543e-02\n",
      " 5.05679539e-01 9.44677855e-01 1.51758456e-01 6.77520638e-02\n",
      " 2.71136059e-01 9.74438472e-01 1.00338249e-02 5.94742230e-01\n",
      " 1.76031995e-01 2.35756723e-02 9.66709194e-01 1.17048560e-01\n",
      " 3.32972641e-01 4.60564809e-01 7.48905715e-01 7.88095439e-02\n",
      " 9.23024665e-01 6.05698430e-01 7.10956398e-01 7.83165236e-01\n",
      " 7.90359282e-01 5.13761887e-01 1.48022927e-01 8.65366705e-01\n",
      " 2.73299862e-01 6.06424874e-01 6.77961395e-01 8.23865614e-01\n",
      " 1.52225627e-01 1.72904453e-01 9.49449259e-01 8.95354054e-01\n",
      " 7.58975170e-02 6.84975996e-01 8.83954203e-01 8.66954689e-01\n",
      " 9.63101713e-01 8.30309639e-01 8.34881685e-01 8.35416417e-01\n",
      " 7.28822333e-01 8.97395158e-01 1.58967710e-01 4.15207342e-01\n",
      " 3.24890260e-02 7.82904283e-01 2.50716913e-01 9.80971850e-01\n",
      " 5.95264522e-01 7.02525916e-01 6.54438823e-01 4.33646973e-01\n",
      " 6.12930620e-01 4.84119505e-01 3.88440611e-01 8.48029164e-01\n",
      " 7.49968077e-01 4.58046274e-01 6.29608320e-01 6.37044161e-01\n",
      " 9.20007027e-01 5.56777805e-01 9.21995345e-01 4.83626127e-01\n",
      " 8.18941065e-01 5.91641436e-01 8.79098019e-01 5.62781710e-01\n",
      " 1.54819202e-01 2.10249470e-01 6.56573446e-01 3.68042698e-01\n",
      " 6.11477731e-01 9.87796443e-01 6.45114839e-01 5.32834388e-01\n",
      " 4.92317371e-01 3.71711482e-02 1.44902640e-01 1.91731148e-01\n",
      " 5.85534591e-01 9.48179827e-01 4.46432267e-02 8.28906100e-02\n",
      " 4.97191438e-01 2.86157871e-01 6.65108163e-01 9.98918866e-01\n",
      " 3.86480942e-01 5.76062260e-01 9.57111773e-01 6.47860348e-01\n",
      " 4.34117491e-01 6.29684730e-01 7.09815238e-01 4.39465380e-01\n",
      " 5.20458405e-01 6.33102908e-01 1.18097815e-01 6.23108441e-01\n",
      " 9.85901555e-01 5.94930088e-01 4.61806503e-01 6.49778527e-01\n",
      " 6.00983722e-01 7.12982639e-02 6.16927135e-01 7.13474280e-01\n",
      " 3.80576792e-01 1.71384873e-01 6.73152032e-01 7.56403639e-01\n",
      " 2.15929757e-01 2.43577866e-01 1.90112098e-02 8.02119713e-01\n",
      " 6.29950028e-01 2.30900759e-01 5.21542958e-01 3.54439702e-02\n",
      " 1.18565200e-01 9.80502876e-01 7.99683613e-01 5.37029119e-01\n",
      " 9.64782416e-01 6.24942107e-01 4.77702411e-01 7.32223649e-01\n",
      " 1.79868478e-01 9.60178546e-01 6.40919635e-01 9.78039915e-01\n",
      " 9.07899532e-01 6.76556819e-01 2.76482618e-01 9.20378830e-01\n",
      " 8.92231721e-01 9.27079876e-01 8.77443049e-02 4.26125124e-01\n",
      " 4.06383886e-01 3.49086306e-01 9.92623590e-01 1.49461176e-01\n",
      " 3.10917760e-01 3.24323431e-02 2.75293316e-01 5.57540520e-01\n",
      " 1.83544090e-01 6.11357293e-01 3.13178834e-02 1.88287492e-02\n",
      " 5.84235265e-01 7.26851044e-01 9.77804907e-01 4.35511009e-03\n",
      " 5.59205137e-01 8.20229824e-01 9.93254561e-01 5.70105680e-01\n",
      " 4.21041026e-01 4.95254571e-01 7.72562142e-01 6.19518991e-01\n",
      " 5.28287333e-01 3.55594287e-01 8.49391671e-01 1.60355962e-02\n",
      " 7.98015695e-01 3.97050777e-01 1.84968192e-01 6.47776999e-01\n",
      " 5.77138805e-01 5.06305545e-01 2.24475391e-01 3.02775931e-01\n",
      " 1.81249910e-01 3.96206099e-01 3.35456794e-01 7.68949842e-01\n",
      " 7.18789292e-01 8.33297206e-01 3.27818755e-01 1.89250722e-01\n",
      " 3.95699069e-01 4.30386762e-01 3.22871433e-02 2.89358636e-01\n",
      " 4.56686367e-01 6.07752124e-02 7.31683774e-01 3.06198754e-01\n",
      " 7.96701805e-01 3.66845234e-01 1.50241340e-01 1.53765597e-01\n",
      " 7.28374931e-02 5.19141520e-01 1.37446557e-01 2.59016993e-01\n",
      " 7.94163410e-01 8.35875414e-01 5.61427654e-01 4.24299261e-01\n",
      " 7.28868268e-02 1.83860906e-01 8.83621242e-01 6.12513611e-01\n",
      " 8.03713968e-01 8.50183950e-02 6.59537233e-01 9.99929163e-01\n",
      " 6.31556496e-01 9.04761033e-01 5.86637187e-02 5.32186498e-02\n",
      " 2.81203161e-01 5.33604422e-01 4.62772279e-01 9.68258480e-01\n",
      " 9.59354665e-01 2.79711425e-01 6.85744758e-01 3.28254446e-01\n",
      " 5.03225047e-01 4.26923136e-01 6.69588206e-01 7.42272488e-01\n",
      " 1.68515518e-01 4.54710566e-01 6.55678019e-01 9.43396729e-01\n",
      " 4.37545777e-01 7.40370854e-01 3.48256018e-01 4.88655196e-02\n",
      " 8.36281286e-01 3.37237287e-01 5.02990289e-01 8.18837801e-01\n",
      " 6.40520168e-01 5.17877252e-01 5.56882813e-01 2.79263587e-01\n",
      " 1.19890575e-01 8.86977503e-01 1.69736530e-01 6.74340748e-01\n",
      " 1.61319924e-01 8.77999249e-01 3.17596103e-01 3.06606418e-01\n",
      " 2.95906332e-01 2.59888551e-01 1.06671820e-01 6.59819402e-01\n",
      " 5.28026055e-01 4.70358743e-01 7.30282708e-01 2.71654518e-01\n",
      " 6.36351854e-01 2.97630063e-01 1.41562262e-01 9.17197847e-01\n",
      " 1.32108680e-01 1.70061027e-01 8.07839676e-02 5.09339993e-01\n",
      " 6.16467662e-01 1.10431914e-01 1.43415742e-01 1.45173736e-01\n",
      " 5.46185367e-01 8.31423670e-02 7.84093879e-01 4.23392418e-01\n",
      " 9.20965141e-01 1.98402739e-02 5.68563067e-01 9.88944171e-01\n",
      " 3.99900541e-01 1.56402770e-01 9.15712392e-01 6.11834310e-01\n",
      " 6.28293596e-01 9.10298819e-01 7.25661162e-01 1.32010142e-01\n",
      " 6.68533075e-02 4.44684664e-01 6.37523681e-01 6.28966981e-01\n",
      " 6.92456009e-01 6.29635417e-01 4.78686445e-01 4.14817710e-01\n",
      " 7.15390307e-01 8.43192738e-01 6.56034031e-01 8.50912149e-01\n",
      " 6.40026110e-01 3.25720850e-01 1.88126126e-01 9.91787731e-01\n",
      " 3.07549999e-01 9.12387314e-01 3.90474417e-01 1.19724463e-01\n",
      " 5.97502261e-01 1.10554129e-01 7.09932733e-01 6.23868476e-01\n",
      " 5.79328489e-01 1.27230244e-01 7.73509598e-01 8.41561121e-01\n",
      " 3.89017414e-01 1.71480341e-01 9.08226600e-03 9.28783846e-01\n",
      " 3.62064921e-01 2.56476513e-01 6.76228682e-01 1.84039534e-01\n",
      " 4.06251441e-01 6.95731020e-01 1.58259958e-02 7.81683383e-01\n",
      " 5.88903899e-01 3.71637676e-01 4.36486492e-01 6.64782340e-01\n",
      " 1.04737420e-01 5.83082207e-02 7.80471593e-01 9.30720506e-01\n",
      " 4.18487323e-01 2.73395279e-01 6.23801692e-01 7.25470040e-02\n",
      " 7.26803696e-01 2.79058649e-01 1.39575795e-01 7.29245255e-01\n",
      " 4.82991580e-01 3.70166518e-01 2.83041325e-01 2.43421794e-01\n",
      " 8.30943137e-01 7.23092562e-01 2.63926261e-01 7.70482851e-01\n",
      " 6.36392008e-01 9.71024290e-01 6.69020520e-01 7.28423985e-01\n",
      " 5.90818916e-01 4.26126133e-02 2.88229125e-01 6.60435742e-01\n",
      " 9.27710840e-01 5.36033272e-01 9.56304443e-01 3.37289501e-01\n",
      " 1.71900891e-01 5.80934490e-01 1.89421231e-02 9.94541447e-01\n",
      " 3.16003991e-02 9.90162826e-01 2.84793213e-01 7.79373402e-01\n",
      " 9.55947150e-01 8.37712250e-02 8.92452204e-01 9.10501449e-01\n",
      " 9.73543858e-01 1.00153512e-03 4.51090513e-01 7.99802185e-01\n",
      " 4.95284175e-01 9.21805062e-01 6.57652714e-01 9.53065505e-02\n",
      " 2.87827487e-01 7.27823890e-01 1.39135995e-01 1.16786239e-02\n",
      " 4.10499723e-01 6.59564885e-01 1.41954609e-01 9.49851562e-02\n",
      " 8.47458988e-02 3.15608049e-01 3.73935620e-02 5.55857722e-01\n",
      " 1.97821450e-01 2.90775885e-01 9.88572688e-01 1.27584911e-01\n",
      " 2.27753968e-01 4.49282175e-01 9.85860978e-01 3.61498033e-01\n",
      " 6.49014578e-01 8.94705488e-01 7.14539455e-01 1.30113055e-01\n",
      " 1.45858229e-01 7.24201431e-02 5.17863739e-01 3.77061706e-01\n",
      " 1.83432235e-01 7.15963292e-01 7.59484022e-01 1.20143245e-01\n",
      " 2.71306263e-01 1.26209837e-01 2.27101903e-01 5.11153603e-01\n",
      " 9.55945619e-01 4.35739113e-02 2.07756324e-01 4.80716760e-01\n",
      " 3.25897493e-01 6.30885442e-01 6.76926241e-01 8.78329483e-01\n",
      " 8.71131791e-01 1.94557488e-01 3.05158698e-01 4.70414985e-01\n",
      " 5.19116166e-01 1.76774691e-02 7.25945982e-01 9.29163119e-01\n",
      " 3.62246478e-04 6.25418945e-01 2.42340583e-01 9.50866066e-01\n",
      " 1.39056609e-01 5.28805659e-01 8.08157121e-01 4.49211288e-01\n",
      " 4.45984491e-01 3.62581400e-01 3.29368373e-02 6.06740044e-01\n",
      " 6.50054196e-01 2.81825632e-01 4.75957282e-01 9.14659170e-01\n",
      " 9.60380468e-01 1.79020416e-01 6.29187886e-01 4.89869162e-02\n",
      " 4.92837871e-01 8.79414267e-01 8.88576066e-01 3.00357842e-01\n",
      " 5.13351499e-01 3.20763123e-01 2.51743444e-02 7.12008895e-01\n",
      " 3.57020995e-01 2.38168921e-01 6.91005813e-02 4.68233956e-01\n",
      " 9.67590663e-01 6.98945420e-01 4.35622519e-01 2.74722534e-01\n",
      " 5.18745917e-01 1.66846963e-01 9.44412340e-01 7.32726853e-01\n",
      " 4.58147443e-01 3.36008764e-01 9.28730389e-01 8.09353161e-01\n",
      " 2.71407012e-01 4.80772889e-01 7.35037623e-02 6.32445652e-01\n",
      " 3.45234140e-01 6.47608159e-01 5.85491225e-01 5.64675065e-01\n",
      " 3.70918521e-01 9.59317069e-01 8.61081433e-01 5.36535153e-01\n",
      " 5.10398469e-01 8.57224194e-01 2.49154937e-01 7.74924927e-01\n",
      " 9.49187242e-01 5.54636347e-01 8.02511881e-01 9.84689780e-01\n",
      " 6.06864991e-01 7.57330398e-01 6.04234615e-01 8.31824550e-01\n",
      " 5.48037095e-01 1.95124257e-01 8.23191511e-01 7.63508575e-01\n",
      " 9.47029686e-01 6.78748179e-02 9.47514246e-01 7.77288010e-02\n",
      " 8.73536288e-01 7.00608560e-01 1.95109143e-01 8.45146829e-01\n",
      " 1.07989613e-01 7.90367676e-01 8.93208867e-02 5.32560311e-01\n",
      " 5.70643367e-01 1.71213730e-01 1.12320362e-01 1.54564923e-01\n",
      " 9.76274872e-01 5.06684919e-01 8.03948829e-01 4.43457363e-01\n",
      " 9.21882577e-01 9.96096288e-01 5.54587013e-01 1.35266378e-01\n",
      " 8.93206768e-02 6.00324792e-01 4.12290386e-01 2.35033921e-01\n",
      " 2.50540174e-01 2.08351860e-01 2.21971638e-01 7.24835651e-01\n",
      " 6.88264430e-01 4.33134784e-01 5.36287818e-01 4.77037919e-01\n",
      " 7.05915963e-01 7.67320526e-02 8.30928604e-01 9.88266785e-01\n",
      " 7.72220116e-01 8.69600070e-01 1.58360546e-01 4.57627803e-01\n",
      " 4.94384216e-01 8.10827063e-01 5.41075071e-01 5.37330084e-01\n",
      " 7.18211970e-01 7.05043512e-01 3.29490057e-01 6.08366956e-01\n",
      " 8.33170913e-01 2.18322076e-01 1.71447770e-01 7.18171907e-01\n",
      " 4.43456510e-01 1.42998678e-01 3.40292813e-02 1.68294601e-01\n",
      " 9.87088924e-02 2.60347165e-01 8.65721053e-01 6.28264969e-02\n",
      " 9.87091583e-01 9.82195856e-01 6.66255478e-01 5.51014724e-01\n",
      " 3.21739632e-01 4.33487271e-01 4.33807427e-01 4.27757933e-01\n",
      " 4.62312204e-01 1.62936907e-01 9.31999283e-01 4.48385755e-01\n",
      " 1.78541007e-01 6.37067657e-01 2.54731460e-01 1.41434443e-01\n",
      " 7.06276988e-01 1.74650123e-02 7.31141641e-01 1.69792658e-01\n",
      " 6.27537461e-01 1.23536289e-03 1.13906150e-01 1.26446384e-01\n",
      " 2.83458693e-01 9.98613011e-01 1.48081833e-01 2.42226213e-01\n",
      " 8.90710640e-01 4.22976250e-02 6.28661861e-01 4.84500564e-02\n",
      " 7.42354448e-01 7.52546622e-01 7.09739652e-01 2.13268966e-01\n",
      " 2.11328251e-01 2.13830527e-01 7.45292179e-01 1.78505929e-01\n",
      " 2.24636230e-01 3.62317853e-02 5.85724580e-02 8.60016611e-01\n",
      " 8.07371266e-01 4.86697751e-01 3.69205737e-02 4.79998029e-01\n",
      " 1.08441316e-01 6.74168165e-01 6.78293629e-02 3.18567964e-01\n",
      " 3.57870989e-02 2.78805170e-01 7.42989841e-01 6.63607756e-01\n",
      " 3.59070200e-01 5.44072659e-01 3.92912455e-01 2.81947887e-01\n",
      " 4.72516444e-01 8.42662035e-02 6.66954059e-01 3.12882353e-01\n",
      " 5.31070673e-01 4.10027494e-01 8.69823074e-02 4.70371622e-02\n",
      " 4.29652888e-01 6.40012208e-01 9.28835620e-01 3.98287320e-01\n",
      " 8.38512898e-01 2.38664784e-01 2.44253746e-01 9.51047898e-01\n",
      " 2.24786037e-01 7.25319038e-01 3.43956556e-03 9.70283369e-01\n",
      " 2.74765697e-01 6.59955664e-01 7.67089934e-01 5.61833998e-02\n",
      " 4.73266335e-01 2.89680608e-01 4.29791717e-02 5.65390598e-01\n",
      " 5.43906356e-01 6.27535680e-01 7.47991038e-01 7.24201373e-02\n",
      " 6.83972167e-01 2.31881103e-01 8.11009902e-03 8.95849131e-01\n",
      " 8.65758343e-01 3.22145916e-01 6.16459983e-01 5.89887923e-01\n",
      " 2.40807578e-01 3.63189837e-01 7.09828940e-01 1.39172509e-01\n",
      " 2.68573390e-01 7.16361394e-02 3.67189117e-03 6.78701069e-01\n",
      " 5.74628281e-01 9.81853331e-01 9.93928169e-01 4.98911076e-01\n",
      " 7.76595431e-01 4.61576847e-01 3.11313559e-01 1.77084691e-01\n",
      " 9.39323848e-01 8.82485294e-01 3.16510696e-01 4.17350451e-01\n",
      " 4.06220247e-01 7.90465651e-01 1.12865408e-01 5.27240228e-01\n",
      " 3.95353545e-01 9.77357187e-01 1.29357423e-01 4.83128662e-01\n",
      " 6.11798624e-01 2.34404192e-01 2.23343644e-01 9.09560584e-01\n",
      " 7.60565737e-01 5.84945387e-01 6.46023352e-01 5.05984036e-01\n",
      " 7.09567162e-01 8.45114008e-01 4.08288563e-01 5.53518649e-01\n",
      " 5.17734996e-01 4.30872699e-01 8.93920998e-01 3.17674021e-01\n",
      " 9.08067149e-01 3.07985614e-01 3.38246039e-01 3.07527813e-01\n",
      " 7.38777288e-01 1.05609832e-01 7.45990360e-01 4.98853048e-01\n",
      " 7.08040389e-01 8.17337084e-01 2.32648969e-01 6.46145759e-01\n",
      " 2.07641424e-01 2.18880123e-01 8.14509663e-01 4.62903717e-01\n",
      " 5.37039094e-01 7.76383182e-01 5.15075421e-01 9.14802845e-01\n",
      " 5.91302217e-01 9.58905915e-02 9.09869668e-02 3.47983707e-01\n",
      " 4.37483929e-01 4.10852255e-01 7.35212660e-01 2.03124022e-01\n",
      " 1.68521848e-01 3.15363710e-01 1.79005337e-01 5.56935683e-01\n",
      " 6.16032502e-01 8.76049460e-01 9.59590661e-01 5.18779782e-01\n",
      " 9.85798011e-01 2.63350373e-01 7.00586338e-01 7.11474925e-01\n",
      " 1.68883946e-01 8.59311189e-01 2.81870721e-01 9.68406955e-01\n",
      " 5.34045638e-01 4.32743495e-01 5.83137142e-01 8.05861227e-01\n",
      " 3.60939026e-01 4.08306489e-01 8.78633327e-01 7.15091898e-01\n",
      " 1.24624705e-01 2.05404871e-01 3.79052453e-01 2.66235099e-01\n",
      " 8.45569415e-02 2.48666311e-01 8.58781843e-01 7.50359175e-02\n",
      " 2.38414946e-01 4.43405695e-01 3.72033208e-01 8.06648316e-01\n",
      " 2.40609268e-01 5.51208468e-02 6.73002519e-01 7.26367398e-01\n",
      " 5.23490133e-01 7.55721371e-01 6.01971897e-01 3.26289066e-01\n",
      " 6.98849296e-01 3.57994021e-01 8.64814697e-01 9.22356792e-01\n",
      " 8.54874941e-02 7.27779488e-01 5.71971390e-02 8.90564307e-01\n",
      " 6.03889086e-01 9.74734810e-01 2.61154264e-01 4.40816024e-02\n",
      " 8.95951706e-01 6.54670242e-01 1.43411563e-01 9.01059167e-01\n",
      " 3.81579816e-01 5.16800160e-03 7.70114999e-01 7.04121399e-01\n",
      " 5.31096982e-01 7.05732904e-01 5.44678353e-01 1.19649625e-01\n",
      " 5.56307270e-01 6.63339215e-01 2.89597684e-01 1.17570133e-01\n",
      " 1.56405653e-01 5.69990041e-01 8.87073361e-01 5.96115286e-01\n",
      " 3.01621227e-02 3.68973070e-01 3.93512400e-01 8.05917359e-01\n",
      " 9.53455872e-01 9.29449515e-01 1.79010756e-01 1.62929603e-01\n",
      " 9.20999489e-01 7.98961383e-01 9.02300185e-01 7.12221429e-01\n",
      " 2.52139051e-01 4.07125127e-01 1.58960084e-01 5.09995438e-01\n",
      " 3.07493026e-01 9.23471281e-01 5.65442095e-01 7.57691252e-01]\n"
     ]
    },
    {
     "ename": "TypeError",
     "evalue": "__init__() got an unexpected keyword argument 'sharei'",
     "output_type": "error",
     "traceback": [
      "\u001b[1;31m---------------------------------------------------------------------------\u001b[0m",
      "\u001b[1;31mTypeError\u001b[0m                                 Traceback (most recent call last)",
      "\u001b[1;32m<ipython-input-6-e28dcd704dbd>\u001b[0m in \u001b[0;36m<module>\u001b[1;34m\u001b[0m\n\u001b[0;32m     11\u001b[0m \u001b[0mu2\u001b[0m\u001b[1;33m=\u001b[0m \u001b[0mgenerate_uniform\u001b[0m\u001b[1;33m(\u001b[0m\u001b[0mbottom\u001b[0m\u001b[1;33m=\u001b[0m\u001b[1;36m10\u001b[0m\u001b[1;33m,\u001b[0m \u001b[0mceiling\u001b[0m\u001b[1;33m=\u001b[0m\u001b[1;36m60\u001b[0m\u001b[1;33m,\u001b[0m \u001b[0mcount\u001b[0m\u001b[1;33m=\u001b[0m\u001b[1;36m1000\u001b[0m\u001b[1;33m)\u001b[0m\u001b[1;33m\u001b[0m\u001b[1;33m\u001b[0m\u001b[0m\n\u001b[0;32m     12\u001b[0m \u001b[1;33m\u001b[0m\u001b[0m\n\u001b[1;32m---> 13\u001b[1;33m \u001b[0mfig\u001b[0m\u001b[1;33m,\u001b[0m \u001b[1;33m(\u001b[0m\u001b[0max1\u001b[0m\u001b[1;33m,\u001b[0m \u001b[0maax2\u001b[0m\u001b[1;33m)\u001b[0m \u001b[1;33m=\u001b[0m \u001b[0mplt\u001b[0m\u001b[1;33m.\u001b[0m\u001b[0msubplots\u001b[0m\u001b[1;33m(\u001b[0m\u001b[1;36m1\u001b[0m\u001b[1;33m,\u001b[0m \u001b[1;36m2\u001b[0m\u001b[1;33m,\u001b[0m \u001b[0msharei\u001b[0m\u001b[1;33m=\u001b[0m \u001b[1;32mTrue\u001b[0m\u001b[1;33m)\u001b[0m\u001b[1;33m\u001b[0m\u001b[1;33m\u001b[0m\u001b[0m\n\u001b[0m\u001b[0;32m     14\u001b[0m \u001b[0max1\u001b[0m\u001b[1;33m.\u001b[0m\u001b[0mhist\u001b[0m\u001b[1;33m(\u001b[0m\u001b[0mu1\u001b[0m\u001b[1;33m)\u001b[0m\u001b[1;33m\u001b[0m\u001b[1;33m\u001b[0m\u001b[0m\n\u001b[0;32m     15\u001b[0m \u001b[0max2\u001b[0m\u001b[1;33m.\u001b[0m\u001b[0mhist\u001b[0m\u001b[1;33m(\u001b[0m\u001b[0mu2\u001b[0m\u001b[1;33m)\u001b[0m\u001b[1;33m\u001b[0m\u001b[1;33m\u001b[0m\u001b[0m\n",
      "\u001b[1;32m~\\AppData\\Local\\Packages\\PythonSoftwareFoundation.Python.3.9_qbz5n2kfra8p0\\LocalCache\\local-packages\\Python39\\site-packages\\matplotlib\\_api\\deprecation.py\u001b[0m in \u001b[0;36mwrapper\u001b[1;34m(*args, **kwargs)\u001b[0m\n\u001b[0;32m    469\u001b[0m                 \u001b[1;34m\"parameter will become keyword-only %(removal)s.\"\u001b[0m\u001b[1;33m,\u001b[0m\u001b[1;33m\u001b[0m\u001b[1;33m\u001b[0m\u001b[0m\n\u001b[0;32m    470\u001b[0m                 name=name, obj_type=f\"parameter of {func.__name__}()\")\n\u001b[1;32m--> 471\u001b[1;33m         \u001b[1;32mreturn\u001b[0m \u001b[0mfunc\u001b[0m\u001b[1;33m(\u001b[0m\u001b[1;33m*\u001b[0m\u001b[0margs\u001b[0m\u001b[1;33m,\u001b[0m \u001b[1;33m**\u001b[0m\u001b[0mkwargs\u001b[0m\u001b[1;33m)\u001b[0m\u001b[1;33m\u001b[0m\u001b[1;33m\u001b[0m\u001b[0m\n\u001b[0m\u001b[0;32m    472\u001b[0m \u001b[1;33m\u001b[0m\u001b[0m\n\u001b[0;32m    473\u001b[0m     \u001b[1;32mreturn\u001b[0m \u001b[0mwrapper\u001b[0m\u001b[1;33m\u001b[0m\u001b[1;33m\u001b[0m\u001b[0m\n",
      "\u001b[1;32m~\\AppData\\Local\\Packages\\PythonSoftwareFoundation.Python.3.9_qbz5n2kfra8p0\\LocalCache\\local-packages\\Python39\\site-packages\\matplotlib\\pyplot.py\u001b[0m in \u001b[0;36msubplots\u001b[1;34m(nrows, ncols, sharex, sharey, squeeze, subplot_kw, gridspec_kw, **fig_kw)\u001b[0m\n\u001b[0;32m   1437\u001b[0m \u001b[1;33m\u001b[0m\u001b[0m\n\u001b[0;32m   1438\u001b[0m     \"\"\"\n\u001b[1;32m-> 1439\u001b[1;33m     \u001b[0mfig\u001b[0m \u001b[1;33m=\u001b[0m \u001b[0mfigure\u001b[0m\u001b[1;33m(\u001b[0m\u001b[1;33m**\u001b[0m\u001b[0mfig_kw\u001b[0m\u001b[1;33m)\u001b[0m\u001b[1;33m\u001b[0m\u001b[1;33m\u001b[0m\u001b[0m\n\u001b[0m\u001b[0;32m   1440\u001b[0m     axs = fig.subplots(nrows=nrows, ncols=ncols, sharex=sharex, sharey=sharey,\n\u001b[0;32m   1441\u001b[0m                        \u001b[0msqueeze\u001b[0m\u001b[1;33m=\u001b[0m\u001b[0msqueeze\u001b[0m\u001b[1;33m,\u001b[0m \u001b[0msubplot_kw\u001b[0m\u001b[1;33m=\u001b[0m\u001b[0msubplot_kw\u001b[0m\u001b[1;33m,\u001b[0m\u001b[1;33m\u001b[0m\u001b[1;33m\u001b[0m\u001b[0m\n",
      "\u001b[1;32m~\\AppData\\Local\\Packages\\PythonSoftwareFoundation.Python.3.9_qbz5n2kfra8p0\\LocalCache\\local-packages\\Python39\\site-packages\\matplotlib\\pyplot.py\u001b[0m in \u001b[0;36mfigure\u001b[1;34m(num, figsize, dpi, facecolor, edgecolor, frameon, FigureClass, clear, **kwargs)\u001b[0m\n\u001b[0;32m    795\u001b[0m                 RuntimeWarning)\n\u001b[0;32m    796\u001b[0m \u001b[1;33m\u001b[0m\u001b[0m\n\u001b[1;32m--> 797\u001b[1;33m         manager = new_figure_manager(\n\u001b[0m\u001b[0;32m    798\u001b[0m             \u001b[0mnum\u001b[0m\u001b[1;33m,\u001b[0m \u001b[0mfigsize\u001b[0m\u001b[1;33m=\u001b[0m\u001b[0mfigsize\u001b[0m\u001b[1;33m,\u001b[0m \u001b[0mdpi\u001b[0m\u001b[1;33m=\u001b[0m\u001b[0mdpi\u001b[0m\u001b[1;33m,\u001b[0m\u001b[1;33m\u001b[0m\u001b[1;33m\u001b[0m\u001b[0m\n\u001b[0;32m    799\u001b[0m             \u001b[0mfacecolor\u001b[0m\u001b[1;33m=\u001b[0m\u001b[0mfacecolor\u001b[0m\u001b[1;33m,\u001b[0m \u001b[0medgecolor\u001b[0m\u001b[1;33m=\u001b[0m\u001b[0medgecolor\u001b[0m\u001b[1;33m,\u001b[0m \u001b[0mframeon\u001b[0m\u001b[1;33m=\u001b[0m\u001b[0mframeon\u001b[0m\u001b[1;33m,\u001b[0m\u001b[1;33m\u001b[0m\u001b[1;33m\u001b[0m\u001b[0m\n",
      "\u001b[1;32m~\\AppData\\Local\\Packages\\PythonSoftwareFoundation.Python.3.9_qbz5n2kfra8p0\\LocalCache\\local-packages\\Python39\\site-packages\\matplotlib\\pyplot.py\u001b[0m in \u001b[0;36mnew_figure_manager\u001b[1;34m(*args, **kwargs)\u001b[0m\n\u001b[0;32m    314\u001b[0m     \u001b[1;34m\"\"\"Create a new figure manager instance.\"\"\"\u001b[0m\u001b[1;33m\u001b[0m\u001b[1;33m\u001b[0m\u001b[0m\n\u001b[0;32m    315\u001b[0m     \u001b[0m_warn_if_gui_out_of_main_thread\u001b[0m\u001b[1;33m(\u001b[0m\u001b[1;33m)\u001b[0m\u001b[1;33m\u001b[0m\u001b[1;33m\u001b[0m\u001b[0m\n\u001b[1;32m--> 316\u001b[1;33m     \u001b[1;32mreturn\u001b[0m \u001b[0m_backend_mod\u001b[0m\u001b[1;33m.\u001b[0m\u001b[0mnew_figure_manager\u001b[0m\u001b[1;33m(\u001b[0m\u001b[1;33m*\u001b[0m\u001b[0margs\u001b[0m\u001b[1;33m,\u001b[0m \u001b[1;33m**\u001b[0m\u001b[0mkwargs\u001b[0m\u001b[1;33m)\u001b[0m\u001b[1;33m\u001b[0m\u001b[1;33m\u001b[0m\u001b[0m\n\u001b[0m\u001b[0;32m    317\u001b[0m \u001b[1;33m\u001b[0m\u001b[0m\n\u001b[0;32m    318\u001b[0m \u001b[1;33m\u001b[0m\u001b[0m\n",
      "\u001b[1;32m~\\AppData\\Local\\Packages\\PythonSoftwareFoundation.Python.3.9_qbz5n2kfra8p0\\LocalCache\\local-packages\\Python39\\site-packages\\matplotlib\\backend_bases.py\u001b[0m in \u001b[0;36mnew_figure_manager\u001b[1;34m(cls, num, *args, **kwargs)\u001b[0m\n\u001b[0;32m   3542\u001b[0m         \u001b[1;32mfrom\u001b[0m \u001b[0mmatplotlib\u001b[0m\u001b[1;33m.\u001b[0m\u001b[0mfigure\u001b[0m \u001b[1;32mimport\u001b[0m \u001b[0mFigure\u001b[0m\u001b[1;33m\u001b[0m\u001b[1;33m\u001b[0m\u001b[0m\n\u001b[0;32m   3543\u001b[0m         \u001b[0mfig_cls\u001b[0m \u001b[1;33m=\u001b[0m \u001b[0mkwargs\u001b[0m\u001b[1;33m.\u001b[0m\u001b[0mpop\u001b[0m\u001b[1;33m(\u001b[0m\u001b[1;34m'FigureClass'\u001b[0m\u001b[1;33m,\u001b[0m \u001b[0mFigure\u001b[0m\u001b[1;33m)\u001b[0m\u001b[1;33m\u001b[0m\u001b[1;33m\u001b[0m\u001b[0m\n\u001b[1;32m-> 3544\u001b[1;33m         \u001b[0mfig\u001b[0m \u001b[1;33m=\u001b[0m \u001b[0mfig_cls\u001b[0m\u001b[1;33m(\u001b[0m\u001b[1;33m*\u001b[0m\u001b[0margs\u001b[0m\u001b[1;33m,\u001b[0m \u001b[1;33m**\u001b[0m\u001b[0mkwargs\u001b[0m\u001b[1;33m)\u001b[0m\u001b[1;33m\u001b[0m\u001b[1;33m\u001b[0m\u001b[0m\n\u001b[0m\u001b[0;32m   3545\u001b[0m         \u001b[1;32mreturn\u001b[0m \u001b[0mcls\u001b[0m\u001b[1;33m.\u001b[0m\u001b[0mnew_figure_manager_given_figure\u001b[0m\u001b[1;33m(\u001b[0m\u001b[0mnum\u001b[0m\u001b[1;33m,\u001b[0m \u001b[0mfig\u001b[0m\u001b[1;33m)\u001b[0m\u001b[1;33m\u001b[0m\u001b[1;33m\u001b[0m\u001b[0m\n\u001b[0;32m   3546\u001b[0m \u001b[1;33m\u001b[0m\u001b[0m\n",
      "\u001b[1;31mTypeError\u001b[0m: __init__() got an unexpected keyword argument 'sharei'"
     ]
    }
   ],
   "source": [
    "# your code here\n",
    "def generate_uniform(bottom, ceiling, count):\n",
    "    x =stats.uniform.rvs(size = count)\n",
    "    print(x)\n",
    "    a = bottom\n",
    "    b =ceiling\n",
    "    randoms = a + (b-a)*x \n",
    "    return randoms\n",
    "\n",
    "u1= generate_uniform(bottom=10, ceiling=15, count=100)\n",
    "u2= generate_uniform(bottom=10, ceiling=60, count=1000)\n",
    "\n",
    "fig, (ax1, aax2) = plt.subplots(1, 2, sharei= True)\n",
    "ax1.hist(u1)\n",
    "ax2.hist(u2)"
   ]
  },
  {
   "cell_type": "markdown",
   "metadata": {},
   "source": [
    "How are the two distributions different?"
   ]
  },
  {
   "cell_type": "code",
   "execution_count": null,
   "metadata": {},
   "outputs": [],
   "source": [
    "# your answer here:\n",
    "#They are different in their range of values \n"
   ]
  },
  {
   "cell_type": "markdown",
   "metadata": {},
   "source": [
    "## Normal Distribution\n",
    "\n",
    "1. In the same way in the Uniform Distribution challenge, write a function that generates normally distributed random numbers.\n",
    "1. Generate 1,000 normally distributed numbers with the average of 10 and standard deviation of 1\n",
    "1. Generate 1,000 normally distributed numbers with the average of 10 and standard deviation of 50\n",
    "2. Plot the distributions of the data generated.\n",
    "\n",
    "Expected output:\n",
    "\n",
    "![normal distribution](nd.png)"
   ]
  },
  {
   "cell_type": "code",
   "execution_count": 8,
   "metadata": {},
   "outputs": [
    {
     "data": {
      "text/plain": [
       "(array([ 1.,  0.,  0.,  0.,  1.,  1.,  1.,  3.,  2.,  2.,  4.,  4., 15.,\n",
       "        10., 18., 20., 27., 32., 38., 44., 45., 47., 47., 60., 59., 51.,\n",
       "        62., 50., 55., 59., 41., 29., 32., 30., 20., 17., 19., 18., 11.,\n",
       "         8.,  3.,  4.,  2.,  5.,  0.,  0.,  1.,  0.,  1.,  1.]),\n",
       " array([-175.53407221, -168.25586009, -160.97764796, -153.69943584,\n",
       "        -146.42122371, -139.14301159, -131.86479946, -124.58658734,\n",
       "        -117.30837521, -110.03016309, -102.75195096,  -95.47373884,\n",
       "         -88.19552671,  -80.91731459,  -73.63910246,  -66.36089034,\n",
       "         -59.08267821,  -51.80446609,  -44.52625396,  -37.24804184,\n",
       "         -29.96982971,  -22.69161759,  -15.41340546,   -8.13519334,\n",
       "          -0.85698121,    6.42123091,   13.69944304,   20.97765516,\n",
       "          28.25586729,   35.53407941,   42.81229154,   50.09050366,\n",
       "          57.36871579,   64.64692791,   71.92514004,   79.20335216,\n",
       "          86.48156429,   93.75977641,  101.03798854,  108.31620066,\n",
       "         115.59441279,  122.87262491,  130.15083704,  137.42904916,\n",
       "         144.70726129,  151.98547342,  159.26368554,  166.54189767,\n",
       "         173.82010979,  181.09832192,  188.37653404]),\n",
       " <BarContainer object of 50 artists>)"
      ]
     },
     "execution_count": 8,
     "metadata": {},
     "output_type": "execute_result"
    },
    {
     "data": {
      "image/png": "[encoded data removed]",
      "text/plain": [
       "<Figure size 432x288 with 2 Axes>"
      ]
     },
     "metadata": {
      "needs_background": "light"
     },
     "output_type": "display_data"
    }
   ],
   "source": [
    "# your code here\n",
    "def generate_normal(mean, std):\n",
    "    normal = stats.norm(mean, std)\n",
    "    return normal.rvs(size=1000)\n",
    "\n",
    "n1 = generate_normal(10,1)\n",
    "n2 = generate_normal(10, 50)\n",
    "\n",
    "fig, (ax1, ax2) = plt.subplots(1, 2, sharey = True)\n",
    "ax1.hist(n1, bins=50)\n",
    "ax2.hist(n2, bins=50)\n"
   ]
  },
  {
   "cell_type": "markdown",
   "metadata": {},
   "source": [
    "How are the two distributions different?"
   ]
  },
  {
   "cell_type": "code",
   "execution_count": null,
   "metadata": {},
   "outputs": [],
   "source": [
    "# your answer here:\n",
    "#They are different in their range of values.   \n"
   ]
  },
  {
   "cell_type": "markdown",
   "metadata": {},
   "source": [
    "## Normal Distribution of Real Data\n",
    "\n",
    "In this challenge we are going to take a look the real data. We will use vehicles.csv file for this exercise"
   ]
  },
  {
   "cell_type": "markdown",
   "metadata": {},
   "source": [
    "First import vehicles.csv.\n",
    "Then plot the histograms for the following variables:\n",
    "\n",
    "1. Fuel Barrels/Year"
   ]
  },
  {
   "cell_type": "code",
   "execution_count": 9,
   "metadata": {},
   "outputs": [],
   "source": [
    "# your code here\n",
    "vehicles = pd.read_csv('vehicles.csv')"
   ]
  },
  {
   "cell_type": "code",
   "execution_count": 10,
   "metadata": {},
   "outputs": [
    {
     "data": {
      "text/html": [
       "<div>\n",
       "<style scoped>\n",
       "    .dataframe tbody tr th:only-of-type {\n",
       "        vertical-align: middle;\n",
       "    }\n",
       "\n",
       "    .dataframe tbody tr th {\n",
       "        vertical-align: top;\n",
       "    }\n",
       "\n",
       "    .dataframe thead th {\n",
       "        text-align: right;\n",
       "    }\n",
       "</style>\n",
       "<table border=\"1\" class=\"dataframe\">\n",
       "  <thead>\n",
       "    <tr style=\"text-align: right;\">\n",
       "      <th></th>\n",
       "      <th>Make</th>\n",
       "      <th>Model</th>\n",
       "      <th>Year</th>\n",
       "      <th>Engine Displacement</th>\n",
       "      <th>Cylinders</th>\n",
       "      <th>Transmission</th>\n",
       "      <th>Drivetrain</th>\n",
       "      <th>Vehicle Class</th>\n",
       "      <th>Fuel Type</th>\n",
       "      <th>Fuel Barrels/Year</th>\n",
       "      <th>City MPG</th>\n",
       "      <th>Highway MPG</th>\n",
       "      <th>Combined MPG</th>\n",
       "      <th>CO2 Emission Grams/Mile</th>\n",
       "      <th>Fuel Cost/Year</th>\n",
       "    </tr>\n",
       "  </thead>\n",
       "  <tbody>\n",
       "    <tr>\n",
       "      <th>0</th>\n",
       "      <td>AM General</td>\n",
       "      <td>DJ Po Vehicle 2WD</td>\n",
       "      <td>1984</td>\n",
       "      <td>2.5</td>\n",
       "      <td>4.0</td>\n",
       "      <td>Automatic 3-spd</td>\n",
       "      <td>2-Wheel Drive</td>\n",
       "      <td>Special Purpose Vehicle 2WD</td>\n",
       "      <td>Regular</td>\n",
       "      <td>19.388824</td>\n",
       "      <td>18</td>\n",
       "      <td>17</td>\n",
       "      <td>17</td>\n",
       "      <td>522.764706</td>\n",
       "      <td>1950</td>\n",
       "    </tr>\n",
       "    <tr>\n",
       "      <th>1</th>\n",
       "      <td>AM General</td>\n",
       "      <td>FJ8c Post Office</td>\n",
       "      <td>1984</td>\n",
       "      <td>4.2</td>\n",
       "      <td>6.0</td>\n",
       "      <td>Automatic 3-spd</td>\n",
       "      <td>2-Wheel Drive</td>\n",
       "      <td>Special Purpose Vehicle 2WD</td>\n",
       "      <td>Regular</td>\n",
       "      <td>25.354615</td>\n",
       "      <td>13</td>\n",
       "      <td>13</td>\n",
       "      <td>13</td>\n",
       "      <td>683.615385</td>\n",
       "      <td>2550</td>\n",
       "    </tr>\n",
       "    <tr>\n",
       "      <th>2</th>\n",
       "      <td>AM General</td>\n",
       "      <td>Post Office DJ5 2WD</td>\n",
       "      <td>1985</td>\n",
       "      <td>2.5</td>\n",
       "      <td>4.0</td>\n",
       "      <td>Automatic 3-spd</td>\n",
       "      <td>Rear-Wheel Drive</td>\n",
       "      <td>Special Purpose Vehicle 2WD</td>\n",
       "      <td>Regular</td>\n",
       "      <td>20.600625</td>\n",
       "      <td>16</td>\n",
       "      <td>17</td>\n",
       "      <td>16</td>\n",
       "      <td>555.437500</td>\n",
       "      <td>2100</td>\n",
       "    </tr>\n",
       "    <tr>\n",
       "      <th>3</th>\n",
       "      <td>AM General</td>\n",
       "      <td>Post Office DJ8 2WD</td>\n",
       "      <td>1985</td>\n",
       "      <td>4.2</td>\n",
       "      <td>6.0</td>\n",
       "      <td>Automatic 3-spd</td>\n",
       "      <td>Rear-Wheel Drive</td>\n",
       "      <td>Special Purpose Vehicle 2WD</td>\n",
       "      <td>Regular</td>\n",
       "      <td>25.354615</td>\n",
       "      <td>13</td>\n",
       "      <td>13</td>\n",
       "      <td>13</td>\n",
       "      <td>683.615385</td>\n",
       "      <td>2550</td>\n",
       "    </tr>\n",
       "    <tr>\n",
       "      <th>4</th>\n",
       "      <td>ASC Incorporated</td>\n",
       "      <td>GNX</td>\n",
       "      <td>1987</td>\n",
       "      <td>3.8</td>\n",
       "      <td>6.0</td>\n",
       "      <td>Automatic 4-spd</td>\n",
       "      <td>Rear-Wheel Drive</td>\n",
       "      <td>Midsize Cars</td>\n",
       "      <td>Premium</td>\n",
       "      <td>20.600625</td>\n",
       "      <td>14</td>\n",
       "      <td>21</td>\n",
       "      <td>16</td>\n",
       "      <td>555.437500</td>\n",
       "      <td>2550</td>\n",
       "    </tr>\n",
       "  </tbody>\n",
       "</table>\n",
       "</div>"
      ],
      "text/plain": [
       "               Make                Model  Year  Engine Displacement  \\\n",
       "0        AM General    DJ Po Vehicle 2WD  1984                  2.5   \n",
       "1        AM General     FJ8c Post Office  1984                  4.2   \n",
       "2        AM General  Post Office DJ5 2WD  1985                  2.5   \n",
       "3        AM General  Post Office DJ8 2WD  1985                  4.2   \n",
       "4  ASC Incorporated                  GNX  1987                  3.8   \n",
       "\n",
       "   Cylinders     Transmission        Drivetrain                Vehicle Class  \\\n",
       "0        4.0  Automatic 3-spd     2-Wheel Drive  Special Purpose Vehicle 2WD   \n",
       "1        6.0  Automatic 3-spd     2-Wheel Drive  Special Purpose Vehicle 2WD   \n",
       "2        4.0  Automatic 3-spd  Rear-Wheel Drive  Special Purpose Vehicle 2WD   \n",
       "3        6.0  Automatic 3-spd  Rear-Wheel Drive  Special Purpose Vehicle 2WD   \n",
       "4        6.0  Automatic 4-spd  Rear-Wheel Drive                 Midsize Cars   \n",
       "\n",
       "  Fuel Type  Fuel Barrels/Year  City MPG  Highway MPG  Combined MPG  \\\n",
       "0   Regular          19.388824        18           17            17   \n",
       "1   Regular          25.354615        13           13            13   \n",
       "2   Regular          20.600625        16           17            16   \n",
       "3   Regular          25.354615        13           13            13   \n",
       "4   Premium          20.600625        14           21            16   \n",
       "\n",
       "   CO2 Emission Grams/Mile  Fuel Cost/Year  \n",
       "0               522.764706            1950  \n",
       "1               683.615385            2550  \n",
       "2               555.437500            2100  \n",
       "3               683.615385            2550  \n",
       "4               555.437500            2550  "
      ]
     },
     "execution_count": 10,
     "metadata": {},
     "output_type": "execute_result"
    }
   ],
   "source": [
    "vehicles.head()"
   ]
  },
  {
   "cell_type": "code",
   "execution_count": 11,
   "metadata": {},
   "outputs": [
    {
     "data": {
      "text/plain": [
       "(array([6.300e+01, 1.000e+01, 1.800e+01, 6.700e+01, 2.970e+02, 1.126e+03,\n",
       "        4.059e+03, 5.600e+03, 6.259e+03, 6.760e+03, 4.613e+03, 2.413e+03,\n",
       "        2.026e+03, 1.275e+03, 7.350e+02, 4.390e+02, 0.000e+00, 1.300e+02,\n",
       "        0.000e+00, 3.600e+01, 0.000e+00, 2.100e+01, 0.000e+00, 0.000e+00,\n",
       "        5.000e+00]),\n",
       " array([ 0.06      ,  1.94108571,  3.82217143,  5.70325714,  7.58434286,\n",
       "         9.46542857, 11.34651429, 13.2276    , 15.10868571, 16.98977143,\n",
       "        18.87085714, 20.75194286, 22.63302857, 24.51411429, 26.3952    ,\n",
       "        28.27628571, 30.15737143, 32.03845714, 33.91954286, 35.80062857,\n",
       "        37.68171429, 39.5628    , 41.44388571, 43.32497143, 45.20605714,\n",
       "        47.08714286]),\n",
       " <BarContainer object of 25 artists>)"
      ]
     },
     "execution_count": 11,
     "metadata": {},
     "output_type": "execute_result"
    },
    {
     "data": {
      "image/png": "[encoded data removed]",
      "text/plain": [
       "<Figure size 432x288 with 1 Axes>"
      ]
     },
     "metadata": {
      "needs_background": "light"
     },
     "output_type": "display_data"
    }
   ],
   "source": [
    "plt.hist(vehicles['Fuel Barrels/Year'], bins=25)"
   ]
  },
  {
   "cell_type": "markdown",
   "metadata": {},
   "source": [
    "2. CO2 Emission Grams/Mile "
   ]
  },
  {
   "cell_type": "code",
   "execution_count": 12,
   "metadata": {},
   "outputs": [
    {
     "data": {
      "text/plain": [
       "(array([9.000e+00, 2.100e+01, 2.800e+01, 2.130e+02, 5.950e+02, 2.410e+03,\n",
       "        4.016e+03, 7.043e+03, 6.377e+03, 5.770e+03, 2.459e+03, 2.422e+03,\n",
       "        1.980e+03, 1.262e+03, 7.120e+02, 4.430e+02, 3.000e+00, 1.270e+02,\n",
       "        0.000e+00, 3.600e+01, 0.000e+00, 2.100e+01, 0.000e+00, 0.000e+00,\n",
       "        5.000e+00]),\n",
       " array([  37.        ,   86.30285714,  135.60571429,  184.90857143,\n",
       "         234.21142857,  283.51428571,  332.81714286,  382.12      ,\n",
       "         431.42285714,  480.72571429,  530.02857143,  579.33142857,\n",
       "         628.63428571,  677.93714286,  727.24      ,  776.54285714,\n",
       "         825.84571429,  875.14857143,  924.45142857,  973.75428571,\n",
       "        1023.05714286, 1072.36      , 1121.66285714, 1170.96571429,\n",
       "        1220.26857143, 1269.57142857]),\n",
       " <BarContainer object of 25 artists>)"
      ]
     },
     "execution_count": 12,
     "metadata": {},
     "output_type": "execute_result"
    },
    {
     "data": {
      "image/png": "[encoded data removed]",
      "text/plain": [
       "<Figure size 432x288 with 1 Axes>"
      ]
     },
     "metadata": {
      "needs_background": "light"
     },
     "output_type": "display_data"
    }
   ],
   "source": [
    "# your code here\n",
    "plt.hist(vehicles['CO2 Emission Grams/Mile'], bins=25)"
   ]
  },
  {
   "cell_type": "markdown",
   "metadata": {},
   "source": [
    "3. Combined MPG"
   ]
  },
  {
   "cell_type": "code",
   "execution_count": 13,
   "metadata": {},
   "outputs": [
    {
     "data": {
      "text/plain": [
       "(array([2.600e+01, 1.710e+02, 1.182e+03, 3.202e+03, 4.556e+03, 5.979e+03,\n",
       "        6.375e+03, 5.405e+03, 3.340e+03, 2.345e+03, 1.331e+03, 8.240e+02,\n",
       "        4.300e+02, 3.380e+02, 1.290e+02, 8.400e+01, 8.800e+01, 7.500e+01,\n",
       "        1.200e+01, 1.600e+01, 1.800e+01, 1.500e+01, 5.000e+00, 4.000e+00,\n",
       "        2.000e+00]),\n",
       " array([ 7.  ,  8.96, 10.92, 12.88, 14.84, 16.8 , 18.76, 20.72, 22.68,\n",
       "        24.64, 26.6 , 28.56, 30.52, 32.48, 34.44, 36.4 , 38.36, 40.32,\n",
       "        42.28, 44.24, 46.2 , 48.16, 50.12, 52.08, 54.04, 56.  ]),\n",
       " <BarContainer object of 25 artists>)"
      ]
     },
     "execution_count": 13,
     "metadata": {},
     "output_type": "execute_result"
    },
    {
     "data": {
      "image/png": "[encoded data removed]",
      "text/plain": [
       "<Figure size 432x288 with 1 Axes>"
      ]
     },
     "metadata": {
      "needs_background": "light"
     },
     "output_type": "display_data"
    }
   ],
   "source": [
    "# your code here\n",
    "plt.hist(vehicles['Combined MPG'], bins=25)"
   ]
  },
  {
   "cell_type": "markdown",
   "metadata": {},
   "source": [
    "Which one(s) of the variables are nearly normally distributed? How do you know?"
   ]
  },
  {
   "cell_type": "code",
   "execution_count": null,
   "metadata": {},
   "outputs": [],
   "source": [
    "# you answer here:\n",
    "Combined MPG because of the shape. "
   ]
  },
  {
   "cell_type": "markdown",
   "metadata": {},
   "source": [
    "## Exponential Distribution"
   ]
  },
  {
   "cell_type": "markdown",
   "metadata": {},
   "source": [
    "1. Using `numpy.random.exponential`, create a function that returns a list of numbers exponentially distributed with the mean of 10. \n",
    "\n",
    "1. Use the function to generate two number sequences with a mean of 1 and 100 and a size of 1000.\n",
    "\n",
    "1. Plot the distributions as histograms with the number of bins as 100.\n",
    "\n",
    "Your output should look like below:\n",
    "\n",
    "![exponential distribution](ed.png)"
   ]
  },
  {
   "cell_type": "code",
   "execution_count": 15,
   "metadata": {},
   "outputs": [
    {
     "data": {
      "text/plain": [
       "(array([82., 74., 53., 55., 56., 62., 50., 46., 40., 44., 42., 35., 38.,\n",
       "        19., 20., 27., 16., 23., 16., 11., 17., 19., 10.,  9.,  9.,  8.,\n",
       "         7.,  5.,  7.,  6.,  7.,  5.,  8.,  3.,  8.,  5.,  4.,  5.,  3.,\n",
       "         4.,  4.,  3.,  3.,  4.,  5.,  0.,  0.,  1.,  2.,  0.,  0.,  3.,\n",
       "         0.,  0.,  1.,  1.,  2.,  0.,  2.,  0.,  0.,  0.,  0.,  0.,  1.,\n",
       "         0.,  1.,  0.,  1.,  1.,  0.,  3.,  1.,  1.,  0.,  0.,  0.,  0.,\n",
       "         0.,  0.,  0.,  0.,  1.,  0.,  0.,  0.,  0.,  0.,  0.,  0.,  0.,\n",
       "         0.,  0.,  0.,  0.,  0.,  0.,  0.,  0.,  1.]),\n",
       " array([1.95861609e-01, 8.26908954e+00, 1.63423175e+01, 2.44155454e+01,\n",
       "        3.24887733e+01, 4.05620013e+01, 4.86352292e+01, 5.67084571e+01,\n",
       "        6.47816851e+01, 7.28549130e+01, 8.09281409e+01, 8.90013689e+01,\n",
       "        9.70745968e+01, 1.05147825e+02, 1.13221053e+02, 1.21294281e+02,\n",
       "        1.29367509e+02, 1.37440736e+02, 1.45513964e+02, 1.53587192e+02,\n",
       "        1.61660420e+02, 1.69733648e+02, 1.77806876e+02, 1.85880104e+02,\n",
       "        1.93953332e+02, 2.02026560e+02, 2.10099788e+02, 2.18173016e+02,\n",
       "        2.26246244e+02, 2.34319472e+02, 2.42392700e+02, 2.50465928e+02,\n",
       "        2.58539155e+02, 2.66612383e+02, 2.74685611e+02, 2.82758839e+02,\n",
       "        2.90832067e+02, 2.98905295e+02, 3.06978523e+02, 3.15051751e+02,\n",
       "        3.23124979e+02, 3.31198207e+02, 3.39271435e+02, 3.47344663e+02,\n",
       "        3.55417891e+02, 3.63491119e+02, 3.71564347e+02, 3.79637574e+02,\n",
       "        3.87710802e+02, 3.95784030e+02, 4.03857258e+02, 4.11930486e+02,\n",
       "        4.20003714e+02, 4.28076942e+02, 4.36150170e+02, 4.44223398e+02,\n",
       "        4.52296626e+02, 4.60369854e+02, 4.68443082e+02, 4.76516310e+02,\n",
       "        4.84589538e+02, 4.92662766e+02, 5.00735993e+02, 5.08809221e+02,\n",
       "        5.16882449e+02, 5.24955677e+02, 5.33028905e+02, 5.41102133e+02,\n",
       "        5.49175361e+02, 5.57248589e+02, 5.65321817e+02, 5.73395045e+02,\n",
       "        5.81468273e+02, 5.89541501e+02, 5.97614729e+02, 6.05687957e+02,\n",
       "        6.13761185e+02, 6.21834412e+02, 6.29907640e+02, 6.37980868e+02,\n",
       "        6.46054096e+02, 6.54127324e+02, 6.62200552e+02, 6.70273780e+02,\n",
       "        6.78347008e+02, 6.86420236e+02, 6.94493464e+02, 7.02566692e+02,\n",
       "        7.10639920e+02, 7.18713148e+02, 7.26786376e+02, 7.34859604e+02,\n",
       "        7.42932831e+02, 7.51006059e+02, 7.59079287e+02, 7.67152515e+02,\n",
       "        7.75225743e+02, 7.83298971e+02, 7.91372199e+02, 7.99445427e+02,\n",
       "        8.07518655e+02]),\n",
       " <BarContainer object of 100 artists>)"
      ]
     },
     "execution_count": 15,
     "metadata": {},
     "output_type": "execute_result"
    },
    {
     "data": {
      "image/png": "[encoded data removed]",
      "text/plain": [
       "<Figure size 432x288 with 2 Axes>"
      ]
     },
     "metadata": {
      "needs_background": "light"
     },
     "output_type": "display_data"
    }
   ],
   "source": [
    "# your code here\n",
    "def generate_exp(mean):\n",
    "    return np.random.exponential(mean, 1000)\n",
    "    \n",
    "e1 = generate_exp(1)\n",
    "e2 = generate_exp(100)\n",
    "fig, (ax1, ax2) = plt.subplots(1, 2,sharey = True)\n",
    "ax1.hist(e1, bins =100)\n",
    "ax2.hist(e2, bins =100)"
   ]
  },
  {
   "cell_type": "markdown",
   "metadata": {},
   "source": [
    "How are the two distributions different?"
   ]
  },
  {
   "cell_type": "code",
   "execution_count": null,
   "metadata": {},
   "outputs": [],
   "source": [
    "# your answer here:\n",
    "#The distributions sims very similar. There are a difference Just one the range."
   ]
  },
  {
   "cell_type": "markdown",
   "metadata": {},
   "source": [
    "## Exponential Distribution of Real Data\n",
    "\n",
    "Suppose that the amount of time one spends in a bank is exponentially distributed with mean as 10 minutes (i.e. λ = 1/10). What is the probability that a customer will spend less than fifteen minutes in the bank? \n",
    "\n",
    "Write a code in python to solve this problem"
   ]
  },
  {
   "cell_type": "code",
   "execution_count": 16,
   "metadata": {},
   "outputs": [
    {
     "name": "stdout",
     "output_type": "stream",
     "text": [
      "0.7768698398515702\n"
     ]
    }
   ],
   "source": [
    "# your answer here\n",
    "# Hint: This is same as saying P(x<15)\n",
    "lam = 1/10 \n",
    "exp = stats.expon(scale=10)\n",
    "print(exp.cdf(15))"
   ]
  },
  {
   "cell_type": "markdown",
   "metadata": {},
   "source": [
    "What is the probability that the customer will spend more than 15 minutes"
   ]
  },
  {
   "cell_type": "code",
   "execution_count": 17,
   "metadata": {},
   "outputs": [
    {
     "data": {
      "text/plain": [
       "0.2231301601484298"
      ]
     },
     "execution_count": 17,
     "metadata": {},
     "output_type": "execute_result"
    }
   ],
   "source": [
    "# your answer here\n",
    "1-exp.cdf(15)"
   ]
  },
  {
   "cell_type": "code",
   "execution_count": null,
   "metadata": {},
   "outputs": [],
   "source": []
  }
 ],
 "metadata": {
  "kernelspec": {
   "display_name": "Python 3",
   "language": "python",
   "name": "python3"
  },
  "language_info": {
   "codemirror_mode": {
    "name": "ipython",
    "version": 3
   },
   "file_extension": ".py",
   "mimetype": "text/x-python",
   "name": "python",
   "nbconvert_exporter": "python",
   "pygments_lexer": "ipython3",
   "version": "3.9.6"
  }
 },
 "nbformat": 4,
 "nbformat_minor": 2
}
